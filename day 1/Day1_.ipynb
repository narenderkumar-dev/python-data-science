{
  "nbformat": 4,
  "nbformat_minor": 0,
  "metadata": {
    "colab": {
      "name": "Day1 .ipynb",
      "provenance": [],
      "collapsed_sections": []
    },
    "kernelspec": {
      "name": "python3",
      "display_name": "Python 3"
    },
    "language_info": {
      "name": "python"
    }
  },
  "cells": [
    {
      "cell_type": "code",
      "metadata": {
        "colab": {
          "base_uri": "https://localhost:8080/",
          "height": 131
        },
        "id": "u--HfX8EX2jJ",
        "outputId": "a52f63a0-e7f6-414f-fdba-27304e4c4bca"
      },
      "source": [
        "{\n",
        " cells: [\n",
        "  {\n",
        "   cell_type: markdown,\n",
        "   metadata: {},\n",
        "   source: [\n",
        "    1) After running the following code, what does the variable bacon contain?\\n,\n",
        "    \\n,\n",
        "    bacon = 22\\n,\n",
        "    \\n,\n",
        "    bacon + 1\n",
        "   ]\n",
        "  },\n",
        "  {\n",
        "   cell_type: markdown,\n",
        "   metadata: {},\n",
        "   source: [\n",
        "    #2) What should the values of the following two terms be?\\n,\n",
        "    \\n,\n",
        "    'spam' + 'spamspam'\\n,\n",
        "    \\n,\n",
        "    'spam' * 3\\n\n",
        "   ]\n",
        "  },\n",
        "  {\n",
        "   cell_type: markdown,\n",
        "   metadata: {},\n",
        "   source: [\n",
        "  # 3) How can you tell the difference between break and continue?\n",
        "   ]\n",
        "  },\n",
        "  {\n",
        "   cell_type: markdown,\n",
        "   metadata: {},\n",
        "   source: [\n",
        "   # 4) In a for loop, what is the difference between range(10), range(0, 10), and range(0, 10, 1)?\n",
        "   ]\n",
        "  },\n",
        "  {\n",
        "   cell_type: markdown,\n",
        "   metadata: {},\n",
        "   source: [\n",
        "   # 5) Using a for loop, write a short programme that prints the numbers 1 to 10 Then, using a while loop, create an identical programme that prints the numbers 1 to 10.\n",
        "   ]\n",
        "  },\n",
        "  {\n",
        "   cell_type: markdown,\n",
        "   metadata: {},\n",
        "   source: [\n",
        "   # 6) Given a number x, determine whether the given number is Armstrong number or not.\\n,\n",
        "    \\n,\n",
        "    Input : 153\\n,\n",
        "    \\n,\n",
        "    Output : Yes\\n,\n",
        "    \\n,\n",
        "    153 is an Armstrong number.\\n,\n",
        "    \\n,\n",
        "    1 * 1 * 1 + 5 * 5 * 5 + 3 * 3 * 3 = 153\n",
        "   ]\n",
        "  },\n",
        "  {\n",
        "   cell_type: markdown,\n",
        "   metadata: {},\n",
        "   source: [\n",
        "   # 7) Program to find Sum of squares of first n natural numbers.\\n\n",
        "   ]\n",
        "  },\n",
        "  {\n",
        "   cell_type: markdown,\n",
        "   metadata: {},\n",
        "   source: [\n",
        "   # 8) Program to Reverse words in a given String in Python.\n",
        "   ]\n",
        "  },\n",
        "  {\n",
        "   cell_type: markdown,\n",
        "   metadata: {},\n",
        "   source: [\n",
        "   # 9) Given a list of numbers, write a Python program to find the sum of all the elements in the list.\\n,\n",
        "    \\n,\n",
        "    Input: [10,12,13]\\n,\n",
        "    \\n,\n",
        "    Output: 35\n",
        "   ]\n",
        "  },\n",
        "  {\n",
        "   cell_type: markdown,\n",
        "   metadata: {},\n",
        "   source: [\n",
        "   # 10) Write a Python program to print all even numbers between 10-1000.\n",
        "   ]\n",
        "  }\n",
        " ],\n",
        " metadata: {\n",
        "  kernelspec: {\n",
        "   display_name: Python 3,\n",
        "   language: python,\n",
        "   name: python3\n",
        "  },\n",
        "  language_info: {\n",
        "   codemirror_mode: {\n",
        "    name: ipython,\n",
        "    version: 3\n",
        "   },\n",
        "   file_extension: .py,\n",
        "   mimetype: text/x-python,\n",
        "   name: python,\n",
        "   nbconvert_exporter: python,\n",
        "   pygments_lexer: ipython3,\n",
        "   version: 3.7.3\n",
        "  }\n",
        " },\n",
        " nbformat: 4,\n",
        " nbformat_minor: 2\n",
        "}\n"
      ],
      "execution_count": 6,
      "outputs": [
        {
          "output_type": "error",
          "ename": "SyntaxError",
          "evalue": "ignored",
          "traceback": [
            "\u001b[0;36m  File \u001b[0;32m\"<ipython-input-6-f1c24d4ad573>\"\u001b[0;36m, line \u001b[0;32m7\u001b[0m\n\u001b[0;31m    1) After running the following code, what does the variable bacon contain?\\n,\u001b[0m\n\u001b[0m     ^\u001b[0m\n\u001b[0;31mSyntaxError\u001b[0m\u001b[0;31m:\u001b[0m invalid syntax\n"
          ]
        }
      ]
    },
    {
      "cell_type": "code",
      "metadata": {
        "colab": {
          "base_uri": "https://localhost:8080/",
          "height": 131
        },
        "id": "GlYVZIEEbKD6",
        "outputId": "cd3772f3-1438-4e6b-8e10-322b4ef907d3"
      },
      "source": [
        "# answers of above inline questions\n",
        "1  23\n",
        "2  spam + spamspam\n",
        "   spam * 3\n",
        "3  break is used to stop the statement \n",
        "   continue is used to continue the statement\n",
        "4  in range (10) there are 10 digits \n",
        "   in range(1:0) there are numbers 1 to 10\n",
        "   in range(1:10:1) there are number 1 to 10 but with a gap of 1 like 1 3 4 ....\n",
        "5  for i in range(1:10)\n",
        "    print(i)\n",
        "6  given number is amstrong numbers\n",
        "7  total=0 \n",
        "i=1 \n",
        "while i<2*n: \n",
        "  total+=i*i \n",
        "  i+=2 \n",
        "8  def rev_sentence(sentence): \n",
        "  \n",
        "    # first split the string into words \n",
        "    words = sentence.split(' ') \n",
        "  \n",
        "    # then reverse the split string list and join using space \n",
        "    reverse_sentence = ' '.join(reversed(words)) \n",
        "  \n",
        "    # finally return the joined string \n",
        "    return reverse_sentence \n",
        "  \n",
        "if __name__ == \"__main__\": \n",
        "    input = 'geeks quiz practice code'\n",
        "    print (rev_sentence(input))\n",
        "9   # Python program to find sum of elements in list\n",
        "total = 0\n",
        " \n",
        "# creating a list\n",
        "list1 = [11, 5, 17, 18, 23]\n",
        " \n",
        "# Iterate each element in list\n",
        "# and add them in variable total\n",
        "for ele in range(0, len(list1)):\n",
        "    total = total + list1[ele]\n",
        " \n",
        "# printing total value\n",
        "print(\"Sum of all elements in given list: \", total)\n",
        "\n",
        "10  # Python program to print Even Numbers in given range\n",
        "  \n",
        "start, end = 4, 19\n",
        "  \n",
        "# iterating each number in list\n",
        "for num in range(start, end + 1):\n",
        "      \n",
        "    # checking condition\n",
        "    if num % 2 == 0:\n",
        "        print(num, end = \" \")"
      ],
      "execution_count": 7,
      "outputs": [
        {
          "output_type": "error",
          "ename": "SyntaxError",
          "evalue": "ignored",
          "traceback": [
            "\u001b[0;36m  File \u001b[0;32m\"<ipython-input-7-e2c1842ce847>\"\u001b[0;36m, line \u001b[0;32m2\u001b[0m\n\u001b[0;31m    1  23\u001b[0m\n\u001b[0m        ^\u001b[0m\n\u001b[0;31mSyntaxError\u001b[0m\u001b[0;31m:\u001b[0m invalid syntax\n"
          ]
        }
      ]
    },
    {
      "cell_type": "code",
      "metadata": {
        "colab": {
          "base_uri": "https://localhost:8080/",
          "height": 131
        },
        "id": "dZXkalaVdjcs",
        "outputId": "e29c7571-0aae-4e15-df25-2b3c13b3afa3"
      },
      "source": [
        ""
      ],
      "execution_count": 10,
      "outputs": [
        {
          "output_type": "error",
          "ename": "SyntaxError",
          "evalue": "ignored",
          "traceback": [
            "\u001b[0;36m  File \u001b[0;32m\"<ipython-input-10-9bef04d85a10>\"\u001b[0;36m, line \u001b[0;32m1\u001b[0m\n\u001b[0;31m    for i in range[1:10]\u001b[0m\n\u001b[0m                        ^\u001b[0m\n\u001b[0;31mSyntaxError\u001b[0m\u001b[0;31m:\u001b[0m invalid syntax\n"
          ]
        }
      ]
    }
  ]
}